{
 "cells": [
  {
   "cell_type": "markdown",
   "id": "bae7b0fd",
   "metadata": {},
   "source": [
    "# Week 7 Group activity"
   ]
  },
  {
   "cell_type": "code",
   "execution_count": null,
   "id": "d6d475da",
   "metadata": {},
   "outputs": [],
   "source": []
  },
  {
   "cell_type": "markdown",
   "id": "23e6c7cf",
   "metadata": {},
   "source": [
    "# 1. Read the data into python"
   ]
  },
  {
   "cell_type": "code",
   "execution_count": 1,
   "id": "035ee642",
   "metadata": {},
   "outputs": [],
   "source": [
    "# Import the required libraries and load the dataset \n",
    "import pandas as pd\n",
    "import seaborn as sns\n",
    "import numpy as np\n",
    "import matplotlib.pyplot as plt\n",
    "week7_data = pd.read_csv('Week_7_Activity_data.csv')"
   ]
  },
  {
   "cell_type": "code",
   "execution_count": 2,
   "id": "c23167f6",
   "metadata": {},
   "outputs": [
    {
     "data": {
      "text/html": [
       "<div>\n",
       "<style scoped>\n",
       "    .dataframe tbody tr th:only-of-type {\n",
       "        vertical-align: middle;\n",
       "    }\n",
       "\n",
       "    .dataframe tbody tr th {\n",
       "        vertical-align: top;\n",
       "    }\n",
       "\n",
       "    .dataframe thead th {\n",
       "        text-align: right;\n",
       "    }\n",
       "</style>\n",
       "<table border=\"1\" class=\"dataframe\">\n",
       "  <thead>\n",
       "    <tr style=\"text-align: right;\">\n",
       "      <th></th>\n",
       "      <th>ph</th>\n",
       "      <th>Hardness</th>\n",
       "      <th>Solids</th>\n",
       "      <th>Chloramines</th>\n",
       "      <th>Sulfate</th>\n",
       "      <th>Conductivity</th>\n",
       "      <th>Organic_carbon</th>\n",
       "      <th>Trihalomethanes</th>\n",
       "      <th>Turbidity</th>\n",
       "    </tr>\n",
       "  </thead>\n",
       "  <tbody>\n",
       "    <tr>\n",
       "      <th>0</th>\n",
       "      <td>8.316766</td>\n",
       "      <td>214.373394</td>\n",
       "      <td>22018.41744</td>\n",
       "      <td>8.059332</td>\n",
       "      <td>356.886136</td>\n",
       "      <td>363.266516</td>\n",
       "      <td>18.436525</td>\n",
       "      <td>100.341674</td>\n",
       "      <td>4.628771</td>\n",
       "    </tr>\n",
       "    <tr>\n",
       "      <th>1</th>\n",
       "      <td>9.092223</td>\n",
       "      <td>181.101509</td>\n",
       "      <td>17978.98634</td>\n",
       "      <td>6.546600</td>\n",
       "      <td>310.135738</td>\n",
       "      <td>398.410813</td>\n",
       "      <td>11.558279</td>\n",
       "      <td>31.997993</td>\n",
       "      <td>4.075075</td>\n",
       "    </tr>\n",
       "    <tr>\n",
       "      <th>2</th>\n",
       "      <td>5.584087</td>\n",
       "      <td>188.313324</td>\n",
       "      <td>28748.68774</td>\n",
       "      <td>7.544869</td>\n",
       "      <td>326.678363</td>\n",
       "      <td>280.467916</td>\n",
       "      <td>8.399735</td>\n",
       "      <td>54.917862</td>\n",
       "      <td>2.559708</td>\n",
       "    </tr>\n",
       "    <tr>\n",
       "      <th>3</th>\n",
       "      <td>10.223862</td>\n",
       "      <td>248.071735</td>\n",
       "      <td>28749.71654</td>\n",
       "      <td>7.513408</td>\n",
       "      <td>393.663395</td>\n",
       "      <td>283.651634</td>\n",
       "      <td>13.789695</td>\n",
       "      <td>84.603556</td>\n",
       "      <td>2.672989</td>\n",
       "    </tr>\n",
       "    <tr>\n",
       "      <th>4</th>\n",
       "      <td>8.635849</td>\n",
       "      <td>203.361523</td>\n",
       "      <td>13672.09176</td>\n",
       "      <td>4.563009</td>\n",
       "      <td>303.309771</td>\n",
       "      <td>474.607645</td>\n",
       "      <td>12.363817</td>\n",
       "      <td>62.798309</td>\n",
       "      <td>4.401425</td>\n",
       "    </tr>\n",
       "  </tbody>\n",
       "</table>\n",
       "</div>"
      ],
      "text/plain": [
       "          ph    Hardness       Solids  Chloramines     Sulfate  Conductivity  \\\n",
       "0   8.316766  214.373394  22018.41744     8.059332  356.886136    363.266516   \n",
       "1   9.092223  181.101509  17978.98634     6.546600  310.135738    398.410813   \n",
       "2   5.584087  188.313324  28748.68774     7.544869  326.678363    280.467916   \n",
       "3  10.223862  248.071735  28749.71654     7.513408  393.663395    283.651634   \n",
       "4   8.635849  203.361523  13672.09176     4.563009  303.309771    474.607645   \n",
       "\n",
       "   Organic_carbon  Trihalomethanes  Turbidity  \n",
       "0       18.436525       100.341674   4.628771  \n",
       "1       11.558279        31.997993   4.075075  \n",
       "2        8.399735        54.917862   2.559708  \n",
       "3       13.789695        84.603556   2.672989  \n",
       "4       12.363817        62.798309   4.401425  "
      ]
     },
     "execution_count": 2,
     "metadata": {},
     "output_type": "execute_result"
    }
   ],
   "source": [
    "week7_data.head()"
   ]
  },
  {
   "cell_type": "code",
   "execution_count": 3,
   "id": "b93740a5",
   "metadata": {},
   "outputs": [
    {
     "data": {
      "text/plain": [
       "Index(['ph', 'Hardness', 'Solids', 'Chloramines', 'Sulfate', 'Conductivity',\n",
       "       'Organic_carbon', 'Trihalomethanes', 'Turbidity'],\n",
       "      dtype='object')"
      ]
     },
     "execution_count": 3,
     "metadata": {},
     "output_type": "execute_result"
    }
   ],
   "source": [
    "# Check the column names in the dataset\n",
    "week7_data.columns"
   ]
  },
  {
   "cell_type": "code",
   "execution_count": 8,
   "id": "c82efb2d",
   "metadata": {},
   "outputs": [
    {
     "data": {
      "text/plain": [
       "ph                 float64\n",
       "Hardness           float64\n",
       "Solids             float64\n",
       "Chloramines        float64\n",
       "Sulfate            float64\n",
       "Conductivity       float64\n",
       "Organic_carbon     float64\n",
       "Trihalomethanes    float64\n",
       "Turbidity          float64\n",
       "dtype: object"
      ]
     },
     "execution_count": 8,
     "metadata": {},
     "output_type": "execute_result"
    }
   ],
   "source": [
    "# Check the data type of each column\n",
    "week7_data.dtypes"
   ]
  },
  {
   "cell_type": "code",
   "execution_count": null,
   "id": "6d4d0885",
   "metadata": {},
   "outputs": [],
   "source": []
  },
  {
   "cell_type": "markdown",
   "id": "0ff80fa8",
   "metadata": {},
   "source": [
    "# 2. Check for null values\n"
   ]
  },
  {
   "cell_type": "code",
   "execution_count": 9,
   "id": "83f9c0f7",
   "metadata": {},
   "outputs": [
    {
     "data": {
      "text/plain": [
       "ph                 0\n",
       "Hardness           0\n",
       "Solids             0\n",
       "Chloramines        0\n",
       "Sulfate            0\n",
       "Conductivity       0\n",
       "Organic_carbon     0\n",
       "Trihalomethanes    0\n",
       "Turbidity          0\n",
       "dtype: int64"
      ]
     },
     "execution_count": 9,
     "metadata": {},
     "output_type": "execute_result"
    }
   ],
   "source": [
    "#Use isna and sum functions to determine the number of null values in each column\n",
    "week7_data.isna().sum()"
   ]
  },
  {
   "cell_type": "markdown",
   "id": "be9868cd",
   "metadata": {},
   "source": [
    "# Inference :  We could see that there are no null values in any of the columns"
   ]
  },
  {
   "cell_type": "code",
   "execution_count": null,
   "id": "7a9d066a",
   "metadata": {},
   "outputs": [],
   "source": []
  },
  {
   "cell_type": "markdown",
   "id": "0854dc6e",
   "metadata": {},
   "source": [
    "# 3. Examine the variables ‘Hardness’, ‘Sulfate’, and ‘Organic_carbon’ and comment on your observations.\n"
   ]
  },
  {
   "cell_type": "code",
   "execution_count": 67,
   "id": "50b071c0",
   "metadata": {},
   "outputs": [
    {
     "data": {
      "text/html": [
       "<div>\n",
       "<style scoped>\n",
       "    .dataframe tbody tr th:only-of-type {\n",
       "        vertical-align: middle;\n",
       "    }\n",
       "\n",
       "    .dataframe tbody tr th {\n",
       "        vertical-align: top;\n",
       "    }\n",
       "\n",
       "    .dataframe thead th {\n",
       "        text-align: right;\n",
       "    }\n",
       "</style>\n",
       "<table border=\"1\" class=\"dataframe\">\n",
       "  <thead>\n",
       "    <tr style=\"text-align: right;\">\n",
       "      <th></th>\n",
       "      <th>Hardness</th>\n",
       "      <th>Sulfate</th>\n",
       "      <th>Organic_carbon</th>\n",
       "    </tr>\n",
       "  </thead>\n",
       "  <tbody>\n",
       "    <tr>\n",
       "      <th>count</th>\n",
       "      <td>2011.000000</td>\n",
       "      <td>2011.000000</td>\n",
       "      <td>2011.000000</td>\n",
       "    </tr>\n",
       "    <tr>\n",
       "      <th>mean</th>\n",
       "      <td>195.968072</td>\n",
       "      <td>333.224672</td>\n",
       "      <td>14.357709</td>\n",
       "    </tr>\n",
       "    <tr>\n",
       "      <th>std</th>\n",
       "      <td>32.635085</td>\n",
       "      <td>41.205172</td>\n",
       "      <td>3.324959</td>\n",
       "    </tr>\n",
       "    <tr>\n",
       "      <th>min</th>\n",
       "      <td>73.492234</td>\n",
       "      <td>129.000000</td>\n",
       "      <td>2.200000</td>\n",
       "    </tr>\n",
       "    <tr>\n",
       "      <th>25%</th>\n",
       "      <td>176.744938</td>\n",
       "      <td>307.632511</td>\n",
       "      <td>12.124105</td>\n",
       "    </tr>\n",
       "    <tr>\n",
       "      <th>50%</th>\n",
       "      <td>197.191839</td>\n",
       "      <td>332.232177</td>\n",
       "      <td>14.322019</td>\n",
       "    </tr>\n",
       "    <tr>\n",
       "      <th>75%</th>\n",
       "      <td>216.441070</td>\n",
       "      <td>359.330555</td>\n",
       "      <td>16.683049</td>\n",
       "    </tr>\n",
       "    <tr>\n",
       "      <th>max</th>\n",
       "      <td>317.338124</td>\n",
       "      <td>481.030642</td>\n",
       "      <td>27.006707</td>\n",
       "    </tr>\n",
       "  </tbody>\n",
       "</table>\n",
       "</div>"
      ],
      "text/plain": [
       "          Hardness      Sulfate  Organic_carbon\n",
       "count  2011.000000  2011.000000     2011.000000\n",
       "mean    195.968072   333.224672       14.357709\n",
       "std      32.635085    41.205172        3.324959\n",
       "min      73.492234   129.000000        2.200000\n",
       "25%     176.744938   307.632511       12.124105\n",
       "50%     197.191839   332.232177       14.322019\n",
       "75%     216.441070   359.330555       16.683049\n",
       "max     317.338124   481.030642       27.006707"
      ]
     },
     "execution_count": 67,
     "metadata": {},
     "output_type": "execute_result"
    }
   ],
   "source": [
    "# Use describe functions for the required columns to evaluate the statistical values \n",
    "week7_data[[\"Hardness\",\"Sulfate\",\"Organic_carbon\"]].describe()"
   ]
  },
  {
   "cell_type": "code",
   "execution_count": 73,
   "id": "e0c17a0b",
   "metadata": {},
   "outputs": [
    {
     "data": {
      "image/png": "[encoded data removed]",
      "text/plain": [
       "<Figure size 1440x1080 with 4 Axes>"
      ]
     },
     "metadata": {},
     "output_type": "display_data"
    }
   ],
   "source": [
    "# Draw the frequency plots for each of the columns\n",
    "freqplot = week7_data[['Hardness','Sulfate','Organic_carbon']]\n",
    "freqplot.hist(figsize=(20,15))\n",
    "plt.show()"
   ]
  },
  {
   "cell_type": "markdown",
   "id": "083671ab",
   "metadata": {},
   "source": [
    "# Inferences\n",
    "\n",
    "# 1. Each of the columns (Hardness, suphate and organic carbon ) have a near to normal distribution. \n",
    "\n",
    "# 2. Hardness & sulphate have a slight skewed distribution towards left and right respectively whereas Organic carbon has almost a normal distribution\n",
    "\n",
    "# 3. Standard deviations for the Hardness,sulphate and organic carbon are 32.6,\t41.2 and 3.3 respectively. The std of organic carbon is low because its value range is low (between 2.7 and 27) "
   ]
  },
  {
   "cell_type": "code",
   "execution_count": 87,
   "id": "5006a624",
   "metadata": {},
   "outputs": [
    {
     "data": {
      "text/plain": [
       "<AxesSubplot:>"
      ]
     },
     "execution_count": 87,
     "metadata": {},
     "output_type": "execute_result"
    },
    {
     "data": {
      "image/png": "[encoded data removed]",
      "text/plain": [
       "<Figure size 720x360 with 2 Axes>"
      ]
     },
     "metadata": {},
     "output_type": "display_data"
    }
   ],
   "source": [
    "# Checking and plotting the heatmap of the mutual correlation coeffiecients for Hardness,sulphur and organic carbon\n",
    "Week7_data_select = week7_data[['Hardness','Sulfate','Organic_carbon']]\n",
    "Week7_Hard_Sulph_Orgcarbon_mutual_corr = Week7_data_select.corr()\n",
    "plt.subplots(figsize=(10,5))\n",
    "sns.heatmap(Week7_Hard_Sulph_Orgcarbon_mutual_corr,vmin=-.15,vmax=1,annot=True,linewidth=0.2,cmap='magma')"
   ]
  },
  {
   "cell_type": "code",
   "execution_count": 88,
   "id": "e41a17b0",
   "metadata": {},
   "outputs": [
    {
     "data": {
      "text/html": [
       "<div>\n",
       "<style scoped>\n",
       "    .dataframe tbody tr th:only-of-type {\n",
       "        vertical-align: middle;\n",
       "    }\n",
       "\n",
       "    .dataframe tbody tr th {\n",
       "        vertical-align: top;\n",
       "    }\n",
       "\n",
       "    .dataframe thead th {\n",
       "        text-align: right;\n",
       "    }\n",
       "</style>\n",
       "<table border=\"1\" class=\"dataframe\">\n",
       "  <thead>\n",
       "    <tr style=\"text-align: right;\">\n",
       "      <th></th>\n",
       "      <th>Hardness</th>\n",
       "      <th>Sulfate</th>\n",
       "      <th>Organic_carbon</th>\n",
       "    </tr>\n",
       "  </thead>\n",
       "  <tbody>\n",
       "    <tr>\n",
       "      <th>Hardness</th>\n",
       "      <td>1.000000</td>\n",
       "      <td>-0.108521</td>\n",
       "      <td>0.013224</td>\n",
       "    </tr>\n",
       "    <tr>\n",
       "      <th>Sulfate</th>\n",
       "      <td>-0.108521</td>\n",
       "      <td>1.000000</td>\n",
       "      <td>0.026776</td>\n",
       "    </tr>\n",
       "    <tr>\n",
       "      <th>Organic_carbon</th>\n",
       "      <td>0.013224</td>\n",
       "      <td>0.026776</td>\n",
       "      <td>1.000000</td>\n",
       "    </tr>\n",
       "  </tbody>\n",
       "</table>\n",
       "</div>"
      ],
      "text/plain": [
       "                Hardness   Sulfate  Organic_carbon\n",
       "Hardness        1.000000 -0.108521        0.013224\n",
       "Sulfate        -0.108521  1.000000        0.026776\n",
       "Organic_carbon  0.013224  0.026776        1.000000"
      ]
     },
     "execution_count": 88,
     "metadata": {},
     "output_type": "execute_result"
    }
   ],
   "source": [
    "Week7_Hard_Sulph_Orgcarbon_mutual_corr"
   ]
  },
  {
   "cell_type": "markdown",
   "id": "ebc50d6b",
   "metadata": {},
   "source": [
    "# Inference \n",
    "# As is evident from above plot and data\n",
    "#    > Hardness and Sufphate have a low negative correlation (-0.1)\n",
    "#    > Hardness and Organic Carbon have a very low positive correlation (0.01) \n",
    "#    > Organic carbon and Sulphate have a low positive correlation (0.02)"
   ]
  },
  {
   "cell_type": "code",
   "execution_count": null,
   "id": "01ef44ec",
   "metadata": {},
   "outputs": [],
   "source": []
  },
  {
   "cell_type": "markdown",
   "id": "96b034be",
   "metadata": {},
   "source": [
    "# 4. Carry out correlation analysis on the dataset and find the correlation factor between \n",
    "# a. ph and Chloramines\n",
    "# b. ph and Conductivity\n",
    "# What do we infer from this correlation value ?"
   ]
  },
  {
   "cell_type": "code",
   "execution_count": 90,
   "id": "58643f3f",
   "metadata": {},
   "outputs": [
    {
     "data": {
      "text/plain": [
       "<AxesSubplot:>"
      ]
     },
     "execution_count": 90,
     "metadata": {},
     "output_type": "execute_result"
    },
    {
     "data": {
      "image/png": "[encoded data removed]",
      "text/plain": [
       "<Figure size 720x360 with 2 Axes>"
      ]
     },
     "metadata": {},
     "output_type": "display_data"
    }
   ],
   "source": [
    "# Create the heat map between the correlation between each columns in the dataset\n",
    "Week7_select_ph_chloramine = week7_data[['ph','Chloramines']]\n",
    "Week7_ph_chloramine_corr = Week7_select_ph_chloramine.corr()\n",
    "plt.subplots(figsize=(10,5))\n",
    "sns.heatmap(Week7_ph_chloramine_corr,vmin=-.089,vmax=.2,annot=True,linewidth=0.2,cmap='autumn')"
   ]
  },
  {
   "cell_type": "code",
   "execution_count": 93,
   "id": "df1f3112",
   "metadata": {},
   "outputs": [],
   "source": [
    "# Calculate carl pearson's correlation coefficient for ph and Chloramine\n",
    "chloramine_values = week7_data['Chloramines']\n",
    "ph_values = week7_data['ph']\n",
    "Chloramine_ph_CP_Rho = np.corrcoef(chloramine_values,ph_values)[0,1]\n",
    "\n",
    "#calculate Spearman Rank correlation and corresponding p-value\n",
    "from scipy.stats import spearmanr\n",
    "Chloramine_ph_SC_rho, Chloramine_ph_p = spearmanr(chloramine_values,ph_values)\n"
   ]
  },
  {
   "cell_type": "code",
   "execution_count": 94,
   "id": "3aac5cad",
   "metadata": {},
   "outputs": [
    {
     "data": {
      "text/plain": [
       "-0.024768491224521388"
      ]
     },
     "execution_count": 94,
     "metadata": {},
     "output_type": "execute_result"
    }
   ],
   "source": [
    "Chloramine_ph_CP_Rho"
   ]
  },
  {
   "cell_type": "code",
   "execution_count": 95,
   "id": "12d26159",
   "metadata": {},
   "outputs": [
    {
     "data": {
      "text/plain": [
       "-0.0381672027255926"
      ]
     },
     "execution_count": 95,
     "metadata": {},
     "output_type": "execute_result"
    }
   ],
   "source": [
    "Chloramine_ph_SC_rho"
   ]
  },
  {
   "cell_type": "code",
   "execution_count": 96,
   "id": "4018e8b8",
   "metadata": {},
   "outputs": [
    {
     "data": {
      "text/plain": [
       "0.08705601438432194"
      ]
     },
     "execution_count": 96,
     "metadata": {},
     "output_type": "execute_result"
    }
   ],
   "source": [
    "Chloramine_ph_p"
   ]
  },
  {
   "cell_type": "markdown",
   "id": "9430da2f",
   "metadata": {},
   "source": [
    "# The rho values for both Carl pearson's and Spearman's coefficient indicates that there is a low negative correlation between the Chloramines and ph . \n",
    "\n",
    "# However, since the p-value of the correlation is not less than 0.05, the correlation between ph and Chloramine is not statistically significant."
   ]
  },
  {
   "cell_type": "code",
   "execution_count": 100,
   "id": "47f59370",
   "metadata": {},
   "outputs": [
    {
     "data": {
      "text/plain": [
       "<AxesSubplot:>"
      ]
     },
     "execution_count": 100,
     "metadata": {},
     "output_type": "execute_result"
    },
    {
     "data": {
      "image/png": "[encoded data removed]",
      "text/plain": [
       "<Figure size 720x360 with 2 Axes>"
      ]
     },
     "metadata": {},
     "output_type": "display_data"
    }
   ],
   "source": [
    "# Create the heat map between the correlation between each columns in the dataset\n",
    "Week7_select_ph_cond = week7_data[['ph','Conductivity']]\n",
    "Week7_ph_cond_corr = Week7_select_ph_cond.corr()\n",
    "plt.subplots(figsize=(10,5))\n",
    "sns.heatmap(Week7_ph_cond_corr,vmin=-.002,vmax=1.5,annot=True,linewidth=0.2,cmap='flare')"
   ]
  },
  {
   "cell_type": "code",
   "execution_count": 97,
   "id": "4aa7dd4d",
   "metadata": {},
   "outputs": [],
   "source": [
    "# Calculate Cal pearsons correlation coefficient between conductivity and ph\n",
    "Conductivity_values = week7_data['Conductivity']\n",
    "CP_Rho_Cond_ph = np.corrcoef(Conductivity_values,ph_values)[0,1]"
   ]
  },
  {
   "cell_type": "code",
   "execution_count": 48,
   "id": "aaea494e",
   "metadata": {},
   "outputs": [
    {
     "data": {
      "text/plain": [
       "0.01412784840109935"
      ]
     },
     "execution_count": 48,
     "metadata": {},
     "output_type": "execute_result"
    }
   ],
   "source": [
    "CP_Rho_Cond_ph"
   ]
  },
  {
   "cell_type": "code",
   "execution_count": 49,
   "id": "15fc9e5d",
   "metadata": {},
   "outputs": [],
   "source": [
    "# Calculate spearman's coffecient and p-value between conductivity and ph\n",
    "SC_rho_Cond_ph , p_Cond_ph = spearmanr(Conductivity_values,ph_values)"
   ]
  },
  {
   "cell_type": "code",
   "execution_count": 50,
   "id": "62ef4070",
   "metadata": {},
   "outputs": [
    {
     "data": {
      "text/plain": [
       "0.008990677678512814"
      ]
     },
     "execution_count": 50,
     "metadata": {},
     "output_type": "execute_result"
    }
   ],
   "source": [
    "SC_rho_Cond_ph"
   ]
  },
  {
   "cell_type": "code",
   "execution_count": 51,
   "id": "982750ac",
   "metadata": {},
   "outputs": [
    {
     "data": {
      "text/plain": [
       "0.6869945840618119"
      ]
     },
     "execution_count": 51,
     "metadata": {},
     "output_type": "execute_result"
    }
   ],
   "source": [
    "p_Cond_ph"
   ]
  },
  {
   "cell_type": "markdown",
   "id": "d8d8bd07",
   "metadata": {},
   "source": [
    "# The rho values for both Carl pearson's and Spearman's coefficient indicates that there is a low positive correlation between the Conductivity and ph . \n",
    "\n",
    "# However, since the p-value of the correlation is not less than 0.05, the correlation between ph and Conductivity is not statistically significant."
   ]
  },
  {
   "cell_type": "code",
   "execution_count": null,
   "id": "6fff92b7",
   "metadata": {},
   "outputs": [],
   "source": [
    "# Submitted by Viswaraj Naduvath Chandran, Aneesh Akkaramannil & harikrishnan Bhuvanendran"
   ]
  }
 ],
 "metadata": {
  "kernelspec": {
   "display_name": "Python 3",
   "language": "python",
   "name": "python3"
  },
  "language_info": {
   "codemirror_mode": {
    "name": "ipython",
    "version": 3
   },
   "file_extension": ".py",
   "mimetype": "text/x-python",
   "name": "python",
   "nbconvert_exporter": "python",
   "pygments_lexer": "ipython3",
   "version": "3.8.8"
  }
 },
 "nbformat": 4,
 "nbformat_minor": 5
}
